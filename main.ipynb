{
 "cells": [
  {
   "cell_type": "code",
   "execution_count": 1,
   "id": "731eab4d-ec8f-4ce9-9012-bbb3a314943e",
   "metadata": {},
   "outputs": [],
   "source": [
    "import pandas as pd\n",
    "import lxml\n",
    "import tqdm\n",
    "import requests\n",
    "import time\n",
    "\n",
    "from collections import defaultdict\n",
    "from bs4 import BeautifulSoup as bs\n",
    "from itertools import count\n",
    "from selenium import webdriver\n",
    "from selenium.webdriver.chrome.service import Service\n",
    "from webdriver_manager.chrome import ChromeDriverManager"
   ]
  },
  {
   "cell_type": "code",
   "execution_count": null,
   "id": "37dec129-84b2-4d33-8af5-ea9724d42bf4",
   "metadata": {},
   "outputs": [],
   "source": []
  },
  {
   "cell_type": "code",
   "execution_count": 2,
   "id": "9fc1393a-334b-4bb8-a968-df6b0359485c",
   "metadata": {},
   "outputs": [
    {
     "name": "stdout",
     "output_type": "stream",
     "text": [
      "\n"
     ]
    },
    {
     "name": "stderr",
     "output_type": "stream",
     "text": [
      "[WDM] - ====== WebDriver manager ======\n",
      "[WDM] - Current google-chrome version is 102.0.5005\n",
      "[WDM] - Get LATEST chromedriver version for 102.0.5005 google-chrome\n",
      "[WDM] - Driver [/Users/chuy/.wdm/drivers/chromedriver/mac64/102.0.5005.61/chromedriver] found in cache\n"
     ]
    },
    {
     "ename": "WebDriverException",
     "evalue": "Message: target frame detached\n  (Session info: chrome=102.0.5005.61)\nStacktrace:\n0   chromedriver                        0x0000000108772d19 chromedriver + 5197081\n1   chromedriver                        0x0000000108700b23 chromedriver + 4729635\n2   chromedriver                        0x00000001082de16f chromedriver + 393583\n3   chromedriver                        0x00000001082c8c4c chromedriver + 306252\n4   chromedriver                        0x00000001082c7d5a chromedriver + 302426\n5   chromedriver                        0x00000001082c825c chromedriver + 303708\n6   chromedriver                        0x00000001082c81b4 chromedriver + 303540\n7   chromedriver                        0x00000001082cf355 chromedriver + 332629\n8   chromedriver                        0x00000001082c9556 chromedriver + 308566\n9   chromedriver                        0x00000001082c9b18 chromedriver + 310040\n10  chromedriver                        0x00000001082c98ca chromedriver + 309450\n11  chromedriver                        0x00000001082c8e57 chromedriver + 306775\n12  chromedriver                        0x00000001082c8613 chromedriver + 304659\n13  chromedriver                        0x00000001082c84a3 chromedriver + 304291\n14  chromedriver                        0x00000001082df752 chromedriver + 399186\n15  chromedriver                        0x0000000108342a4c chromedriver + 805452\n16  chromedriver                        0x00000001083306f3 chromedriver + 730867\n17  chromedriver                        0x0000000108306a49 chromedriver + 559689\n18  chromedriver                        0x0000000108307a75 chromedriver + 563829\n19  chromedriver                        0x0000000108744bdd chromedriver + 5008349\n20  chromedriver                        0x0000000108749b64 chromedriver + 5028708\n21  chromedriver                        0x000000010874ebcf chromedriver + 5049295\n22  chromedriver                        0x000000010874a7ca chromedriver + 5031882\n23  chromedriver                        0x000000010872459f chromedriver + 4875679\n24  chromedriver                        0x0000000108764388 chromedriver + 5137288\n25  chromedriver                        0x000000010876450f chromedriver + 5137679\n26  chromedriver                        0x000000010877a085 chromedriver + 5226629\n27  libsystem_pthread.dylib             0x00007ff817aa04f4 _pthread_start + 125\n28  libsystem_pthread.dylib             0x00007ff817a9c00f thread_start + 15\n",
     "output_type": "error",
     "traceback": [
      "\u001b[0;31m---------------------------------------------------------------------------\u001b[0m",
      "\u001b[0;31mWebDriverException\u001b[0m                        Traceback (most recent call last)",
      "\u001b[0;32m/var/folders/zt/ps6rvb150sndsy28rd859sc40000gn/T/ipykernel_24122/2047988973.py\u001b[0m in \u001b[0;36m<module>\u001b[0;34m\u001b[0m\n\u001b[1;32m     10\u001b[0m     \u001b[0;31m# request\u001b[0m\u001b[0;34m\u001b[0m\u001b[0;34m\u001b[0m\u001b[0m\n\u001b[1;32m     11\u001b[0m     \u001b[0murl\u001b[0m \u001b[0;34m=\u001b[0m \u001b[0;34mf'https://letterboxd.com/films/popular/size/small/page/{page}/'\u001b[0m\u001b[0;34m\u001b[0m\u001b[0;34m\u001b[0m\u001b[0m\n\u001b[0;32m---> 12\u001b[0;31m     \u001b[0mbrowser\u001b[0m\u001b[0;34m.\u001b[0m\u001b[0mget\u001b[0m\u001b[0;34m(\u001b[0m\u001b[0murl\u001b[0m\u001b[0;34m)\u001b[0m\u001b[0;34m\u001b[0m\u001b[0;34m\u001b[0m\u001b[0m\n\u001b[0m\u001b[1;32m     13\u001b[0m     \u001b[0mtime\u001b[0m\u001b[0;34m.\u001b[0m\u001b[0msleep\u001b[0m\u001b[0;34m(\u001b[0m\u001b[0;36m5\u001b[0m\u001b[0;34m)\u001b[0m\u001b[0;34m\u001b[0m\u001b[0;34m\u001b[0m\u001b[0m\n\u001b[1;32m     14\u001b[0m     \u001b[0mhtml\u001b[0m \u001b[0;34m=\u001b[0m \u001b[0mbrowser\u001b[0m\u001b[0;34m.\u001b[0m\u001b[0mpage_source\u001b[0m\u001b[0;34m\u001b[0m\u001b[0;34m\u001b[0m\u001b[0m\n",
      "\u001b[0;32m~/opt/anaconda3/lib/python3.9/site-packages/selenium/webdriver/remote/webdriver.py\u001b[0m in \u001b[0;36mget\u001b[0;34m(self, url)\u001b[0m\n\u001b[1;32m    440\u001b[0m         \u001b[0mLoads\u001b[0m \u001b[0ma\u001b[0m \u001b[0mweb\u001b[0m \u001b[0mpage\u001b[0m \u001b[0;32min\u001b[0m \u001b[0mthe\u001b[0m \u001b[0mcurrent\u001b[0m \u001b[0mbrowser\u001b[0m \u001b[0msession\u001b[0m\u001b[0;34m.\u001b[0m\u001b[0;34m\u001b[0m\u001b[0;34m\u001b[0m\u001b[0m\n\u001b[1;32m    441\u001b[0m         \"\"\"\n\u001b[0;32m--> 442\u001b[0;31m         \u001b[0mself\u001b[0m\u001b[0;34m.\u001b[0m\u001b[0mexecute\u001b[0m\u001b[0;34m(\u001b[0m\u001b[0mCommand\u001b[0m\u001b[0;34m.\u001b[0m\u001b[0mGET\u001b[0m\u001b[0;34m,\u001b[0m \u001b[0;34m{\u001b[0m\u001b[0;34m'url'\u001b[0m\u001b[0;34m:\u001b[0m \u001b[0murl\u001b[0m\u001b[0;34m}\u001b[0m\u001b[0;34m)\u001b[0m\u001b[0;34m\u001b[0m\u001b[0;34m\u001b[0m\u001b[0m\n\u001b[0m\u001b[1;32m    443\u001b[0m \u001b[0;34m\u001b[0m\u001b[0m\n\u001b[1;32m    444\u001b[0m     \u001b[0;34m@\u001b[0m\u001b[0mproperty\u001b[0m\u001b[0;34m\u001b[0m\u001b[0;34m\u001b[0m\u001b[0m\n",
      "\u001b[0;32m~/opt/anaconda3/lib/python3.9/site-packages/selenium/webdriver/remote/webdriver.py\u001b[0m in \u001b[0;36mexecute\u001b[0;34m(self, driver_command, params)\u001b[0m\n\u001b[1;32m    428\u001b[0m         \u001b[0mresponse\u001b[0m \u001b[0;34m=\u001b[0m \u001b[0mself\u001b[0m\u001b[0;34m.\u001b[0m\u001b[0mcommand_executor\u001b[0m\u001b[0;34m.\u001b[0m\u001b[0mexecute\u001b[0m\u001b[0;34m(\u001b[0m\u001b[0mdriver_command\u001b[0m\u001b[0;34m,\u001b[0m \u001b[0mparams\u001b[0m\u001b[0;34m)\u001b[0m\u001b[0;34m\u001b[0m\u001b[0;34m\u001b[0m\u001b[0m\n\u001b[1;32m    429\u001b[0m         \u001b[0;32mif\u001b[0m \u001b[0mresponse\u001b[0m\u001b[0;34m:\u001b[0m\u001b[0;34m\u001b[0m\u001b[0;34m\u001b[0m\u001b[0m\n\u001b[0;32m--> 430\u001b[0;31m             \u001b[0mself\u001b[0m\u001b[0;34m.\u001b[0m\u001b[0merror_handler\u001b[0m\u001b[0;34m.\u001b[0m\u001b[0mcheck_response\u001b[0m\u001b[0;34m(\u001b[0m\u001b[0mresponse\u001b[0m\u001b[0;34m)\u001b[0m\u001b[0;34m\u001b[0m\u001b[0;34m\u001b[0m\u001b[0m\n\u001b[0m\u001b[1;32m    431\u001b[0m             response['value'] = self._unwrap_value(\n\u001b[1;32m    432\u001b[0m                 response.get('value', None))\n",
      "\u001b[0;32m~/opt/anaconda3/lib/python3.9/site-packages/selenium/webdriver/remote/errorhandler.py\u001b[0m in \u001b[0;36mcheck_response\u001b[0;34m(self, response)\u001b[0m\n\u001b[1;32m    245\u001b[0m                 \u001b[0malert_text\u001b[0m \u001b[0;34m=\u001b[0m \u001b[0mvalue\u001b[0m\u001b[0;34m[\u001b[0m\u001b[0;34m'alert'\u001b[0m\u001b[0;34m]\u001b[0m\u001b[0;34m.\u001b[0m\u001b[0mget\u001b[0m\u001b[0;34m(\u001b[0m\u001b[0;34m'text'\u001b[0m\u001b[0;34m)\u001b[0m\u001b[0;34m\u001b[0m\u001b[0;34m\u001b[0m\u001b[0m\n\u001b[1;32m    246\u001b[0m             \u001b[0;32mraise\u001b[0m \u001b[0mexception_class\u001b[0m\u001b[0;34m(\u001b[0m\u001b[0mmessage\u001b[0m\u001b[0;34m,\u001b[0m \u001b[0mscreen\u001b[0m\u001b[0;34m,\u001b[0m \u001b[0mstacktrace\u001b[0m\u001b[0;34m,\u001b[0m \u001b[0malert_text\u001b[0m\u001b[0;34m)\u001b[0m  \u001b[0;31m# type: ignore[call-arg]  # mypy is not smart enough here\u001b[0m\u001b[0;34m\u001b[0m\u001b[0;34m\u001b[0m\u001b[0m\n\u001b[0;32m--> 247\u001b[0;31m         \u001b[0;32mraise\u001b[0m \u001b[0mexception_class\u001b[0m\u001b[0;34m(\u001b[0m\u001b[0mmessage\u001b[0m\u001b[0;34m,\u001b[0m \u001b[0mscreen\u001b[0m\u001b[0;34m,\u001b[0m \u001b[0mstacktrace\u001b[0m\u001b[0;34m)\u001b[0m\u001b[0;34m\u001b[0m\u001b[0;34m\u001b[0m\u001b[0m\n\u001b[0m\u001b[1;32m    248\u001b[0m \u001b[0;34m\u001b[0m\u001b[0m\n\u001b[1;32m    249\u001b[0m     \u001b[0;32mdef\u001b[0m \u001b[0m_value_or_default\u001b[0m\u001b[0;34m(\u001b[0m\u001b[0mself\u001b[0m\u001b[0;34m,\u001b[0m \u001b[0mobj\u001b[0m\u001b[0;34m:\u001b[0m \u001b[0mMapping\u001b[0m\u001b[0;34m[\u001b[0m\u001b[0m_KT\u001b[0m\u001b[0;34m,\u001b[0m \u001b[0m_VT\u001b[0m\u001b[0;34m]\u001b[0m\u001b[0;34m,\u001b[0m \u001b[0mkey\u001b[0m\u001b[0;34m:\u001b[0m \u001b[0m_KT\u001b[0m\u001b[0;34m,\u001b[0m \u001b[0mdefault\u001b[0m\u001b[0;34m:\u001b[0m \u001b[0m_VT\u001b[0m\u001b[0;34m)\u001b[0m \u001b[0;34m->\u001b[0m \u001b[0m_VT\u001b[0m\u001b[0;34m:\u001b[0m\u001b[0;34m\u001b[0m\u001b[0;34m\u001b[0m\u001b[0m\n",
      "\u001b[0;31mWebDriverException\u001b[0m: Message: target frame detached\n  (Session info: chrome=102.0.5005.61)\nStacktrace:\n0   chromedriver                        0x0000000108772d19 chromedriver + 5197081\n1   chromedriver                        0x0000000108700b23 chromedriver + 4729635\n2   chromedriver                        0x00000001082de16f chromedriver + 393583\n3   chromedriver                        0x00000001082c8c4c chromedriver + 306252\n4   chromedriver                        0x00000001082c7d5a chromedriver + 302426\n5   chromedriver                        0x00000001082c825c chromedriver + 303708\n6   chromedriver                        0x00000001082c81b4 chromedriver + 303540\n7   chromedriver                        0x00000001082cf355 chromedriver + 332629\n8   chromedriver                        0x00000001082c9556 chromedriver + 308566\n9   chromedriver                        0x00000001082c9b18 chromedriver + 310040\n10  chromedriver                        0x00000001082c98ca chromedriver + 309450\n11  chromedriver                        0x00000001082c8e57 chromedriver + 306775\n12  chromedriver                        0x00000001082c8613 chromedriver + 304659\n13  chromedriver                        0x00000001082c84a3 chromedriver + 304291\n14  chromedriver                        0x00000001082df752 chromedriver + 399186\n15  chromedriver                        0x0000000108342a4c chromedriver + 805452\n16  chromedriver                        0x00000001083306f3 chromedriver + 730867\n17  chromedriver                        0x0000000108306a49 chromedriver + 559689\n18  chromedriver                        0x0000000108307a75 chromedriver + 563829\n19  chromedriver                        0x0000000108744bdd chromedriver + 5008349\n20  chromedriver                        0x0000000108749b64 chromedriver + 5028708\n21  chromedriver                        0x000000010874ebcf chromedriver + 5049295\n22  chromedriver                        0x000000010874a7ca chromedriver + 5031882\n23  chromedriver                        0x000000010872459f chromedriver + 4875679\n24  chromedriver                        0x0000000108764388 chromedriver + 5137288\n25  chromedriver                        0x000000010876450f chromedriver + 5137679\n26  chromedriver                        0x000000010877a085 chromedriver + 5226629\n27  libsystem_pthread.dylib             0x00007ff817aa04f4 _pthread_start + 125\n28  libsystem_pthread.dylib             0x00007ff817a9c00f thread_start + 15\n"
     ]
    }
   ],
   "source": [
    "headers = {\n",
    "    'User-Agent': 'Mozilla/5.0 (Macintosh; Intel Mac OS X 10_15_7) AppleWebKit/537.36 (KHTML, like Gecko) Chrome/101.0.4951.64 Safari/537.36'\n",
    "}\n",
    "max_pages = 50\n",
    "movie_data = []\n",
    "browser = webdriver.Chrome(service=Service(ChromeDriverManager().install()))\n",
    "\n",
    "for page in count(1):\n",
    "#for page in [37]:\n",
    "    # request\n",
    "    url = f'https://letterboxd.com/films/popular/size/small/page/{page}/'\n",
    "    browser.get(url)\n",
    "    time.sleep(5)\n",
    "    html = browser.page_source\n",
    "    soup_td = bs(html,'lxml')\n",
    "\n",
    "    # parse data\n",
    "    movies = soup_td.find_all('li', {'class': 'listitem poster-container'})\n",
    "\n",
    "    for movie in movies:\n",
    "        # general data\n",
    "        data = movie.find('a').attrs['data-original-title'].split()\n",
    "        title = ' '.join(data[:-2])\n",
    "        year = data[-2][1:-1]\n",
    "        rating = data[-1]\n",
    "\n",
    "        # genres\n",
    "        href = movie.find('a').attrs['href']\n",
    "        url_detail = 'https://letterboxd.com' + href\n",
    "        html_detail = requests.get(url_detail, headers=headers).content\n",
    "        soup_detail = bs(html_detail, 'lxml')\n",
    "\n",
    "        director = soup_detail.find('span', {'class': 'prettify'})\n",
    "        director = None if director is None else director.text\n",
    "\n",
    "        genres_dict = defaultdict(lambda: None)\n",
    "        target_genres = ['Genre', 'Genres']\n",
    "        plural_to_singular_map_genres = {'Genres': 'Genre'}\n",
    "        genres_tab = soup_detail.find('div', {'id': 'tab-genres'})\n",
    "        if genres_tab is not None:\n",
    "            available_genres = [(idx, genre.text) for idx, genre in enumerate(genres_tab.find_all('span')) if genre.text in target_genres]\n",
    "        \n",
    "            genres_tab_sluglists = genres_tab.find_all('div', {'class': 'text-sluglist capitalize'})\n",
    "            for idx, genre in available_genres:\n",
    "                if genre in plural_to_singular_map_genres.keys():\n",
    "                    genre = plural_to_singular_map_genres[genre]\n",
    "                genres_dict[genre] = ', '.join(gen.text for gen in genres_tab_sluglists[idx].find_all('a'))\n",
    "\n",
    "        # details\n",
    "        details_dict = defaultdict(lambda: None)\n",
    "        target_details = ['Studios', 'Countries', 'Language', 'Studio', 'Country', 'Languages']\n",
    "        plural_to_singular_map = {'Studios': 'Studio', 'Countries': 'Country', 'Languages': 'Language'}\n",
    "        details_tab = soup_detail.find('div', {'id': 'tab-details'})\n",
    "        if details_tab is not None:\n",
    "            available_details = [(idx, detail.text) for idx, detail in enumerate(details_tab.find_all('span')) if detail.text in target_details]\n",
    "\n",
    "            details_tab_sluglists = details_tab.find_all('div', {'class': 'text-sluglist'})\n",
    "            for idx, detail in available_details:\n",
    "                if detail in plural_to_singular_map.keys():\n",
    "                    detail = plural_to_singular_map[detail]\n",
    "                details_dict[detail] = ', '.join(det.text for det in details_tab_sluglists[idx].find_all('a'))\n",
    "\n",
    "        # cache data\n",
    "        movie_data.append((title, year, rating, director, genres_dict['Genre'], details_dict['Studio'], details_dict['Country'], details_dict['Language'], href))\n",
    "    if page == max_pages:\n",
    "        break"
   ]
  },
  {
   "cell_type": "code",
   "execution_count": null,
   "id": "a2206c5a-7d59-491a-9ab3-8bde29b96f01",
   "metadata": {},
   "outputs": [],
   "source": []
  },
  {
   "cell_type": "code",
   "execution_count": 154,
   "id": "d1996030-0fb1-4fa7-bc63-5d7bec199876",
   "metadata": {},
   "outputs": [],
   "source": [
    "title"
   ]
  },
  {
   "cell_type": "code",
   "execution_count": 155,
   "id": "52ed5c40-b779-44e9-8443-af1bf395b523",
   "metadata": {},
   "outputs": [
    {
     "data": {
      "text/plain": [
       "'https://letterboxd.com/film/black-mirror-shut-up-and-dance-1/'"
      ]
     },
     "execution_count": 155,
     "metadata": {},
     "output_type": "execute_result"
    }
   ],
   "source": [
    "url_detail"
   ]
  },
  {
   "cell_type": "code",
   "execution_count": null,
   "id": "d5f05f4b-b95f-49a7-9c28-d5de3e80996e",
   "metadata": {},
   "outputs": [],
   "source": []
  },
  {
   "cell_type": "code",
   "execution_count": null,
   "id": "8a70a4e4-722b-4012-bb8a-648dc63a5241",
   "metadata": {},
   "outputs": [],
   "source": []
  },
  {
   "cell_type": "code",
   "execution_count": 129,
   "id": "6a108238-86a2-4250-8eba-0d94e006a17d",
   "metadata": {},
   "outputs": [],
   "source": [
    "soup_detail.find('div', {'id': 'tab-genres'})"
   ]
  },
  {
   "cell_type": "code",
   "execution_count": 123,
   "id": "18abee79-0f79-461a-a48c-ad44d3690cf7",
   "metadata": {},
   "outputs": [
    {
     "data": {
      "text/plain": [
       "'Black Mirror: Shut Up and Dance'"
      ]
     },
     "execution_count": 123,
     "metadata": {},
     "output_type": "execute_result"
    }
   ],
   "source": [
    "title"
   ]
  },
  {
   "cell_type": "markdown",
   "id": "eb49ec15-6e1a-4a0f-b836-00fe2b97aa83",
   "metadata": {},
   "source": [
    "# all into pandas"
   ]
  },
  {
   "cell_type": "code",
   "execution_count": 120,
   "id": "cf1548e6-63ae-438a-bb0f-ed7bef1dd382",
   "metadata": {},
   "outputs": [
    {
     "data": {
      "text/plain": [
       "'https://letterboxd.com/films/popular/size/small/page/20/'"
      ]
     },
     "execution_count": 120,
     "metadata": {},
     "output_type": "execute_result"
    }
   ],
   "source": [
    "url"
   ]
  },
  {
   "cell_type": "code",
   "execution_count": 3,
   "id": "cad2d66a-6aea-4e22-871b-fd7cea30c6bc",
   "metadata": {},
   "outputs": [],
   "source": [
    "import pandas as pd"
   ]
  },
  {
   "cell_type": "code",
   "execution_count": null,
   "id": "dd5aa158-e303-4cc1-a3c4-27baff176c8a",
   "metadata": {},
   "outputs": [],
   "source": []
  },
  {
   "cell_type": "code",
   "execution_count": 4,
   "id": "9d4b38b6-302a-48c7-9038-27e5967f4801",
   "metadata": {},
   "outputs": [],
   "source": [
    "df_movies = pd.DataFrame(movie_data, columns=['movie', 'year', 'rating', 'director', 'genres', 'studios', 'country', 'languages', 'href'])"
   ]
  },
  {
   "cell_type": "code",
   "execution_count": null,
   "id": "a7316ad2-5a38-4281-8174-66cad92ab0cb",
   "metadata": {},
   "outputs": [],
   "source": []
  },
  {
   "cell_type": "code",
   "execution_count": 5,
   "id": "1547d10f-ffd4-426c-a465-2fe01d76d8fc",
   "metadata": {},
   "outputs": [
    {
     "data": {
      "text/html": [
       "<div>\n",
       "<style scoped>\n",
       "    .dataframe tbody tr th:only-of-type {\n",
       "        vertical-align: middle;\n",
       "    }\n",
       "\n",
       "    .dataframe tbody tr th {\n",
       "        vertical-align: top;\n",
       "    }\n",
       "\n",
       "    .dataframe thead th {\n",
       "        text-align: right;\n",
       "    }\n",
       "</style>\n",
       "<table border=\"1\" class=\"dataframe\">\n",
       "  <thead>\n",
       "    <tr style=\"text-align: right;\">\n",
       "      <th></th>\n",
       "      <th>movie</th>\n",
       "      <th>year</th>\n",
       "      <th>rating</th>\n",
       "      <th>director</th>\n",
       "      <th>genres</th>\n",
       "      <th>studios</th>\n",
       "      <th>country</th>\n",
       "      <th>languages</th>\n",
       "      <th>href</th>\n",
       "    </tr>\n",
       "  </thead>\n",
       "  <tbody>\n",
       "    <tr>\n",
       "      <th>0</th>\n",
       "      <td>Parasite</td>\n",
       "      <td>2019</td>\n",
       "      <td>4.58</td>\n",
       "      <td>Bong Joon-ho</td>\n",
       "      <td>comedy, drama, thriller</td>\n",
       "      <td>Barunson E&amp;A, CJ Entertainment</td>\n",
       "      <td>South Korea</td>\n",
       "      <td>Korean, English, German</td>\n",
       "      <td>/film/parasite-2019/</td>\n",
       "    </tr>\n",
       "    <tr>\n",
       "      <th>1</th>\n",
       "      <td>Joker</td>\n",
       "      <td>2019</td>\n",
       "      <td>3.87</td>\n",
       "      <td>Todd Phillips</td>\n",
       "      <td>crime, drama, thriller</td>\n",
       "      <td>Warner Bros. Pictures, Joint Effort, Village R...</td>\n",
       "      <td>Canada, USA</td>\n",
       "      <td>English</td>\n",
       "      <td>/film/joker-2019/</td>\n",
       "    </tr>\n",
       "    <tr>\n",
       "      <th>2</th>\n",
       "      <td>Knives Out</td>\n",
       "      <td>2019</td>\n",
       "      <td>4.04</td>\n",
       "      <td>Rian Johnson</td>\n",
       "      <td>comedy, mystery, crime</td>\n",
       "      <td>Lionsgate, MRC, T-Street Productions</td>\n",
       "      <td>USA</td>\n",
       "      <td>English, Spanish</td>\n",
       "      <td>/film/knives-out-2019/</td>\n",
       "    </tr>\n",
       "    <tr>\n",
       "      <th>3</th>\n",
       "      <td>Pulp Fiction</td>\n",
       "      <td>1994</td>\n",
       "      <td>4.30</td>\n",
       "      <td>Quentin Tarantino</td>\n",
       "      <td>crime, thriller</td>\n",
       "      <td>Miramax, A Band Apart, Jersey Films</td>\n",
       "      <td>USA</td>\n",
       "      <td>English, Spanish, French</td>\n",
       "      <td>/film/pulp-fiction/</td>\n",
       "    </tr>\n",
       "    <tr>\n",
       "      <th>4</th>\n",
       "      <td>Fight Club</td>\n",
       "      <td>1999</td>\n",
       "      <td>4.27</td>\n",
       "      <td>David Fincher</td>\n",
       "      <td>drama</td>\n",
       "      <td>Regency Enterprises, Fox 2000 Pictures, Taurus...</td>\n",
       "      <td>Germany, USA</td>\n",
       "      <td>English</td>\n",
       "      <td>/film/fight-club/</td>\n",
       "    </tr>\n",
       "    <tr>\n",
       "      <th>...</th>\n",
       "      <td>...</td>\n",
       "      <td>...</td>\n",
       "      <td>...</td>\n",
       "      <td>...</td>\n",
       "      <td>...</td>\n",
       "      <td>...</td>\n",
       "      <td>...</td>\n",
       "      <td>...</td>\n",
       "      <td>...</td>\n",
       "    </tr>\n",
       "    <tr>\n",
       "      <th>3523</th>\n",
       "      <td>Quiz Show</td>\n",
       "      <td>1994</td>\n",
       "      <td>3.70</td>\n",
       "      <td>Robert Redford</td>\n",
       "      <td>mystery, drama, history</td>\n",
       "      <td>Baltimore Pictures, Wildwood Enterprises, Holl...</td>\n",
       "      <td>USA</td>\n",
       "      <td>English</td>\n",
       "      <td>/film/quiz-show/</td>\n",
       "    </tr>\n",
       "    <tr>\n",
       "      <th>3524</th>\n",
       "      <td>Nineteen Eighty-Four</td>\n",
       "      <td>1984</td>\n",
       "      <td>3.39</td>\n",
       "      <td>Michael Radford</td>\n",
       "      <td>science-fiction, thriller, drama</td>\n",
       "      <td>Atlantic Releasing Corporation, Umbrella-Rosen...</td>\n",
       "      <td>UK</td>\n",
       "      <td>English</td>\n",
       "      <td>/film/nineteen-eighty-four-1984/</td>\n",
       "    </tr>\n",
       "    <tr>\n",
       "      <th>3525</th>\n",
       "      <td>News from Home</td>\n",
       "      <td>1976</td>\n",
       "      <td>4.08</td>\n",
       "      <td>Chantal Akerman</td>\n",
       "      <td>documentary</td>\n",
       "      <td>ZDF, Paradise Films, Unité Trois, Ina</td>\n",
       "      <td>Belgium, France, Germany</td>\n",
       "      <td>French</td>\n",
       "      <td>/film/news-from-home/</td>\n",
       "    </tr>\n",
       "    <tr>\n",
       "      <th>3526</th>\n",
       "      <td>Shadows</td>\n",
       "      <td>1959</td>\n",
       "      <td>3.63</td>\n",
       "      <td>John Cassavetes</td>\n",
       "      <td>romance, drama</td>\n",
       "      <td>Lion International</td>\n",
       "      <td>USA</td>\n",
       "      <td>English</td>\n",
       "      <td>/film/shadows-1959/</td>\n",
       "    </tr>\n",
       "    <tr>\n",
       "      <th>3527</th>\n",
       "      <td>No Exit</td>\n",
       "      <td>2022</td>\n",
       "      <td>3.04</td>\n",
       "      <td>Damien Power</td>\n",
       "      <td>thriller, horror</td>\n",
       "      <td>20th Century Studios, Flitcraft</td>\n",
       "      <td>USA</td>\n",
       "      <td>English</td>\n",
       "      <td>/film/no-exit-2022/</td>\n",
       "    </tr>\n",
       "  </tbody>\n",
       "</table>\n",
       "<p>3528 rows × 9 columns</p>\n",
       "</div>"
      ],
      "text/plain": [
       "                     movie  year rating           director  \\\n",
       "0                 Parasite  2019   4.58       Bong Joon-ho   \n",
       "1                    Joker  2019   3.87      Todd Phillips   \n",
       "2               Knives Out  2019   4.04       Rian Johnson   \n",
       "3             Pulp Fiction  1994   4.30  Quentin Tarantino   \n",
       "4               Fight Club  1999   4.27      David Fincher   \n",
       "...                    ...   ...    ...                ...   \n",
       "3523             Quiz Show  1994   3.70     Robert Redford   \n",
       "3524  Nineteen Eighty-Four  1984   3.39    Michael Radford   \n",
       "3525        News from Home  1976   4.08    Chantal Akerman   \n",
       "3526               Shadows  1959   3.63    John Cassavetes   \n",
       "3527               No Exit  2022   3.04       Damien Power   \n",
       "\n",
       "                                genres  \\\n",
       "0              comedy, drama, thriller   \n",
       "1               crime, drama, thriller   \n",
       "2               comedy, mystery, crime   \n",
       "3                      crime, thriller   \n",
       "4                                drama   \n",
       "...                                ...   \n",
       "3523           mystery, drama, history   \n",
       "3524  science-fiction, thriller, drama   \n",
       "3525                       documentary   \n",
       "3526                    romance, drama   \n",
       "3527                  thriller, horror   \n",
       "\n",
       "                                                studios  \\\n",
       "0                        Barunson E&A, CJ Entertainment   \n",
       "1     Warner Bros. Pictures, Joint Effort, Village R...   \n",
       "2                  Lionsgate, MRC, T-Street Productions   \n",
       "3                   Miramax, A Band Apart, Jersey Films   \n",
       "4     Regency Enterprises, Fox 2000 Pictures, Taurus...   \n",
       "...                                                 ...   \n",
       "3523  Baltimore Pictures, Wildwood Enterprises, Holl...   \n",
       "3524  Atlantic Releasing Corporation, Umbrella-Rosen...   \n",
       "3525              ZDF, Paradise Films, Unité Trois, Ina   \n",
       "3526                                 Lion International   \n",
       "3527                    20th Century Studios, Flitcraft   \n",
       "\n",
       "                       country                 languages  \\\n",
       "0                  South Korea   Korean, English, German   \n",
       "1                  Canada, USA                   English   \n",
       "2                          USA          English, Spanish   \n",
       "3                          USA  English, Spanish, French   \n",
       "4                 Germany, USA                   English   \n",
       "...                        ...                       ...   \n",
       "3523                       USA                   English   \n",
       "3524                        UK                   English   \n",
       "3525  Belgium, France, Germany                    French   \n",
       "3526                       USA                   English   \n",
       "3527                       USA                   English   \n",
       "\n",
       "                                  href  \n",
       "0                 /film/parasite-2019/  \n",
       "1                    /film/joker-2019/  \n",
       "2               /film/knives-out-2019/  \n",
       "3                  /film/pulp-fiction/  \n",
       "4                    /film/fight-club/  \n",
       "...                                ...  \n",
       "3523                  /film/quiz-show/  \n",
       "3524  /film/nineteen-eighty-four-1984/  \n",
       "3525             /film/news-from-home/  \n",
       "3526               /film/shadows-1959/  \n",
       "3527               /film/no-exit-2022/  \n",
       "\n",
       "[3528 rows x 9 columns]"
      ]
     },
     "execution_count": 5,
     "metadata": {},
     "output_type": "execute_result"
    }
   ],
   "source": [
    "df_movies"
   ]
  },
  {
   "cell_type": "code",
   "execution_count": null,
   "id": "83019a3d-907c-4bee-84fe-4671808577c5",
   "metadata": {},
   "outputs": [],
   "source": []
  },
  {
   "cell_type": "code",
   "execution_count": 8,
   "id": "76843184-fb4e-4108-8bcf-f267212d78b2",
   "metadata": {},
   "outputs": [
    {
     "data": {
      "text/plain": [
       "(3528, 9)"
      ]
     },
     "execution_count": 8,
     "metadata": {},
     "output_type": "execute_result"
    }
   ],
   "source": [
    "df_movies.shape"
   ]
  },
  {
   "cell_type": "code",
   "execution_count": null,
   "id": "c4603bd3-1776-4418-a2df-8eb0dab33b5c",
   "metadata": {},
   "outputs": [],
   "source": []
  },
  {
   "cell_type": "code",
   "execution_count": null,
   "id": "99b771d1-8b8b-49e4-a438-60d92a2fa343",
   "metadata": {},
   "outputs": [],
   "source": []
  },
  {
   "cell_type": "code",
   "execution_count": null,
   "id": "7f6c0fff-d8af-4089-b599-22445ed26977",
   "metadata": {},
   "outputs": [],
   "source": []
  },
  {
   "cell_type": "code",
   "execution_count": null,
   "id": "0e228c43-845f-4bb4-81c6-68420de6b920",
   "metadata": {},
   "outputs": [],
   "source": [
    "df_mlp.to_csv('movies.csv', index=False)"
   ]
  }
 ],
 "metadata": {
  "kernelspec": {
   "display_name": "Python 3 (ipykernel)",
   "language": "python",
   "name": "python3"
  },
  "language_info": {
   "codemirror_mode": {
    "name": "ipython",
    "version": 3
   },
   "file_extension": ".py",
   "mimetype": "text/x-python",
   "name": "python",
   "nbconvert_exporter": "python",
   "pygments_lexer": "ipython3",
   "version": "3.9.7"
  }
 },
 "nbformat": 4,
 "nbformat_minor": 5
}
